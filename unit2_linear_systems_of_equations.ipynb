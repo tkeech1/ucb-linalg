{
 "cells": [
  {
   "cell_type": "markdown",
   "id": "869c44c5-e11d-458c-8181-a9be6afb8e70",
   "metadata": {},
   "source": [
    "## Unit 2 - Linear Systems of Equations"
   ]
  },
  {
   "cell_type": "code",
   "execution_count": null,
   "id": "43c0cea7-e875-4582-bd2e-7a85f4b5d841",
   "metadata": {},
   "outputs": [],
   "source": []
  }
 ],
 "metadata": {
  "kernelspec": {
   "display_name": "Python 3 (ipykernel)",
   "language": "python",
   "name": "python3"
  },
  "language_info": {
   "codemirror_mode": {
    "name": "ipython",
    "version": 3
   },
   "file_extension": ".py",
   "mimetype": "text/x-python",
   "name": "python",
   "nbconvert_exporter": "python",
   "pygments_lexer": "ipython3",
   "version": "3.8.10"
  }
 },
 "nbformat": 4,
 "nbformat_minor": 5
}
