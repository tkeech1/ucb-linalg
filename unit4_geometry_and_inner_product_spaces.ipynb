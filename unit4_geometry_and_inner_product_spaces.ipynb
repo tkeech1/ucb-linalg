{
 "cells": [
  {
   "cell_type": "markdown",
   "id": "efd41c6b-75db-481e-9598-0f8e7d98ec26",
   "metadata": {},
   "source": [
    "## Unit 4 - Geometry & InnerProduct Spaces"
   ]
  },
  {
   "cell_type": "markdown",
   "id": "5f22f7d8-bd40-4e5b-b45f-58f226b3971c",
   "metadata": {},
   "source": [
    "### Vector Geometry\n",
    "\n",
    "Basic Properties of Inner Product Spaces\n",
    "Suppose $V, <\\cdot,\\cdot>$ ($V$ together with an inner product) is an inner product space over $\\mathbb{R}$. Then the following results hold:\n",
    "\n",
    "1) Norm Axioms for $|| \\cdot ||= \\sqrt{<\\cdot,\\cdot>}$ (square root as an inner product of something and itself) ($||\\cdot||$ is the norm function)\n",
    "\n",
    "* $\\forall x,y \\in V, \\forall a \\in \\mathbb{R}$\n",
    "  * $|| x || > 0$ for $x != 0 $\n",
    "  * $|| ax || = |a| \\cdot ||x||$\n",
    "  * $|| x + y || <= ||x|| + ||y||$\n",
    "     \n",
    "2) Cauchy-Schwartz Inequality:\n",
    "\n",
    "* $||<x,y>|| <= ||x|| \\cdot ||y||$\n",
    "\n",
    "3) Parallelogram Law\n",
    "\n",
    "* $ ||x + y||^2 + ||x-y||^2 = 2(||x||^2 + ||y||^2)$\n",
    "* Called the parallelogram law because you can draw a parallelogram between two vectors \n",
    "* Important theoretically to distinguish norms that come from inner products vs. norms that don't come from inner products - the norm comes from an inner product iff it satisfies the parallelogram law\n",
    "\n",
    "4) Pythagorean Theorem (linear algebrea version)\n",
    "* If $<x,y> = 0$ then $||x-y||^2 = ||x||^2 + ||y||^2 = ||x+y||^2$\n",
    "* The inner product of two vectors is 0 if they are at right angles to one another\n"
   ]
  },
  {
   "cell_type": "markdown",
   "id": "aae950db-4d9b-4a0a-a96c-6610453269ba",
   "metadata": {},
   "source": [
    "### Inner Product Spaces and Examples\n",
    "\n",
    "An inner product space is a vector space together with an inner product function $< \\cdot, \\cdot>: V \\rightarrow \\mathbb{R}$ that satisfies three axioms. \n",
    "\n",
    "1) Symmetry: $<u,v> = <v,u>$\n",
    "2) Linearity (in the 1st argument): $<u_1+u_2, v> = <u_1,v> + <u_2,v>$ and $<au,v>=a<u,v>$\n",
    "3) Positive Definiteness: $<u,u> >= 0$ and  $<u,u> = 0$ iff $u = \\vec{0}$\n",
    "\n",
    "From any inner product, we can define notions of length, distance and directional correlation (similarity)\n",
    "\n",
    "* length(u) $= \\sqrt{<u,u>}$\n",
    "* distance(u,v) $= \\sqrt{<u-v,u-v>}$\n",
    "* directional_correlation(u,v) $= \\frac{<u,v>}{ \\sqrt{<u,u><v,v>}}$\n",
    "\n",
    "Examples:\n",
    "\n",
    "$\\mathbb{R}^n$ prototypical example\n",
    "* $<x,y> = x^Ty = \\sum_{k=1}^nx_ky_k$\n",
    "* This is the definition used in the first unit to define inner product, matrix vector product, matrix multiplication, etc.\n",
    "\n",
    "We can also define for any diagonal matrix $D$, another inner product on $\\mathbb{R}^n$\n",
    "* $<x,y> = x^TDy = \\sum_{k=1}^nx_kd_{kk}y_k$\n",
    "* In data science, you use this version all the time since this give a notion of distance. Many times in data science, you have pieces of data that don't have the same weight. In a housing data set, when predicting prices, maybe the location feature should be weighed more highly that the other features. This method basically applies uses linear algebra to apply a diagonal matrix to increase/decrease the weights of the features in the data set. \n",
    "\n",
    "In $\\mathbb{R}[x]$ a typical inner product is\n",
    "\n",
    "* $<p(x), q(x)> = \\int_{-1}^{1}p(x)q(x)dx$\n",
    "* This inner product satisfies the three axioms\n",
    "\n",
    "In $\\mathbb{R}^{n*n}$:\n",
    "\n",
    "* $<A,B> = Trace(A^TB)$"
   ]
  },
  {
   "cell_type": "markdown",
   "id": "f3ffdaad-d165-411a-8f00-afecc591e807",
   "metadata": {},
   "source": [
    "### Basic Properties of Inner Product Spaces"
   ]
  },
  {
   "cell_type": "markdown",
   "id": "ce25476b-76aa-49ac-819a-763bf463fefb",
   "metadata": {},
   "source": []
  }
 ],
 "metadata": {
  "kernelspec": {
   "display_name": "Python 3 (ipykernel)",
   "language": "python",
   "name": "python3"
  },
  "language_info": {
   "codemirror_mode": {
    "name": "ipython",
    "version": 3
   },
   "file_extension": ".py",
   "mimetype": "text/x-python",
   "name": "python",
   "nbconvert_exporter": "python",
   "pygments_lexer": "ipython3",
   "version": "3.8.10"
  }
 },
 "nbformat": 4,
 "nbformat_minor": 5
}
