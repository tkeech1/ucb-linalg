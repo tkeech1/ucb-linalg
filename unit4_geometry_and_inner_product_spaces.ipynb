{
 "cells": [
  {
   "cell_type": "markdown",
   "id": "efd41c6b-75db-481e-9598-0f8e7d98ec26",
   "metadata": {},
   "source": [
    "### Unit 4 - Geometry & Inner Product Spaces"
   ]
  },
  {
   "cell_type": "markdown",
   "id": "5f22f7d8-bd40-4e5b-b45f-58f226b3971c",
   "metadata": {},
   "source": [
    "#### Vector Geometry\n",
    "\n",
    "Basic Properties of Inner Product Spaces\n",
    "Suppose $V, <\\cdot,\\cdot>$ ($V$ together with an inner product) is an inner product space over $\\mathbb{R}$. Then the following results hold:\n",
    "\n",
    "1) Norm Axioms for $|| \\cdot ||= \\sqrt{<\\cdot,\\cdot>}$ (square root as an inner product of something and itself) ($||\\cdot||$ is the norm function)\n",
    "\n",
    "* $\\forall x,y \\in V, \\forall a \\in \\mathbb{R}$\n",
    "  * $|| x || > 0$ for $x != 0 $\n",
    "  * $|| ax || = |a| \\cdot ||x||$\n",
    "  * $|| x + y || <= ||x|| + ||y||$\n",
    "     \n",
    "2) Cauchy-Schwartz Inequality:\n",
    "\n",
    "* $|<x,y>| <= ||x|| \\cdot ||y||$\n",
    "\n",
    "3) Parallelogram Law\n",
    "\n",
    "* $ ||x + y||^2 + ||x-y||^2 = 2(||x||^2 + ||y||^2)$\n",
    "* Called the parallelogram law because you can draw a parallelogram between two vectors \n",
    "* Important theoretically to distinguish norms that come from inner products vs. norms that don't come from inner products - the norm comes from an inner product iff it satisfies the parallelogram law\n",
    "\n",
    "4) Pythagorean Theorem (linear algebrea version)\n",
    "* If $<x,y> = 0$ then $||x-y||^2 = ||x||^2 + ||y||^2 = ||x+y||^2$\n",
    "* The inner product of two vectors is 0 if they are at right angles to one another\n"
   ]
  },
  {
   "cell_type": "code",
   "execution_count": null,
   "id": "a7255500-624b-4518-8020-4cd37c5d2a4e",
   "metadata": {},
   "outputs": [],
   "source": []
  }
 ],
 "metadata": {
  "kernelspec": {
   "display_name": "Python 3 (ipykernel)",
   "language": "python",
   "name": "python3"
  },
  "language_info": {
   "codemirror_mode": {
    "name": "ipython",
    "version": 3
   },
   "file_extension": ".py",
   "mimetype": "text/x-python",
   "name": "python",
   "nbconvert_exporter": "python",
   "pygments_lexer": "ipython3",
   "version": "3.8.10"
  }
 },
 "nbformat": 4,
 "nbformat_minor": 5
}
