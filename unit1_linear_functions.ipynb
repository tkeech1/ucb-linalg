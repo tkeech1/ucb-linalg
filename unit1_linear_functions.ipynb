{
 "cells": [
  {
   "cell_type": "markdown",
   "id": "11b21fa2-ff96-4381-ab12-c16e1db37fa8",
   "metadata": {},
   "source": [
    "## Unit 1 - Linear Functions"
   ]
  },
  {
   "cell_type": "markdown",
   "id": "62077e5e-1744-45db-b252-e5d681cd4467",
   "metadata": {},
   "source": [
    "### What is a Function?"
   ]
  },
  {
   "cell_type": "markdown",
   "id": "a6c68988-7986-464c-af03-c2dd00f19ca3",
   "metadata": {},
   "source": [
    "Definition of a function - A function $f$ is a rule that assigns to each input $x$ in its domain an output $f(x)$ in its codomain"
   ]
  },
  {
   "cell_type": "markdown",
   "id": "7f5a2049-4c65-43ac-8697-646f6edfbf51",
   "metadata": {},
   "source": [
    "**Terms:**\n",
    "\n",
    "* Domain - Set of all inputs\n",
    "* Codomain - Superset of all outputs\n",
    "* Range - Set of all outputs"
   ]
  },
  {
   "cell_type": "markdown",
   "id": "b17d2f91-a885-4982-9dad-91b493ba3b35",
   "metadata": {},
   "source": [
    "**Notation:**\n",
    "    \n",
    "* $ f: \\mathbb{R}^n \\rightarrow \\mathbb{R}^m $\n",
    " * $\\mathbb{R}^n = $ Domain of $f$\n",
    " * $\\mathbb{R}^m = $ Codomain of $f$"
   ]
  },
  {
   "cell_type": "markdown",
   "id": "19da3f5d-7a53-4ef4-a1f7-2f3025bbe690",
   "metadata": {},
   "source": [
    "**Formally:** \n",
    "\n",
    "A function is a triple <$f$, D, C> where:\n",
    "\n",
    "D = domain\\\n",
    "C = codomain\\\n",
    "$ f \\subseteq D * C $ satisfying the function property $ (\\forall x \\in D) (\\exists! y \\in C)$ such that $(<x,y> \\in f)$\n",
    "\n",
    "Meaning - f is an element of DxC satisfying the function property that for every x in D, there exists a unique y in C such that the pair (x,y) is in f. "
   ]
  },
  {
   "cell_type": "markdown",
   "id": "4beb7aa5-04ed-432c-ba53-6b401fc5f672",
   "metadata": {},
   "source": [
    "**Representing a function:**\n",
    "\n",
    "Formulas:\\\n",
    " $f(x) = x^2$\\\n",
    " $y = x^2$\\\n",
    " $x \\rightarrow x^2$\\\n",
    " $x^2$\n",
    " \n",
    "Words:\\\n",
    "Multiply the input by itself and output the result\n",
    "\n",
    "Sets:\\\n",
    "$ { (x,y): y = x^2} $"
   ]
  },
  {
   "cell_type": "markdown",
   "id": "ae397fea-31dc-409b-98cc-89194462a290",
   "metadata": {},
   "source": [
    "Graphs:"
   ]
  },
  {
   "cell_type": "code",
   "execution_count": null,
   "id": "c9a2cae2-1b9a-496c-9fef-12fef2c893e9",
   "metadata": {},
   "outputs": [],
   "source": [
    "import matplotlib.pyplot as plt\n",
    "import numpy as np\n",
    "\n",
    "# create 1000 equally spaced points between -10 and 10\n",
    "x = np.linspace(-10, 10, 100)\n",
    "\n",
    "# calculate the y value for each element of the x vector\n",
    "y = x**2\n",
    "\n",
    "fig, ax = plt.subplots()\n",
    "\n",
    "# graph spines\n",
    "ax.spines['left'].set_position('zero')\n",
    "ax.spines['right'].set_color('none')\n",
    "ax.spines['bottom'].set_position('zero')\n",
    "ax.spines['top'].set_color('none')\n",
    "ax.xaxis.set_ticks_position('bottom')\n",
    "ax.yaxis.set_ticks_position('left')\n",
    "\n",
    "ax.plot(x, y); # the semicolon supppresses the text output of from matplotlib"
   ]
  },
  {
   "cell_type": "markdown",
   "id": "2b41dd51-368d-495f-8aeb-5d3ab242b286",
   "metadata": {},
   "source": [
    "### What is a Linear Function?\n",
    "\n",
    "In single variable calculus, a \"linear\" function has the form:\\\n",
    "$y=mx +b$\\\n",
    "Where m = slope and b = y-intercept"
   ]
  },
  {
   "cell_type": "code",
   "execution_count": null,
   "id": "e6823924-2262-49d9-9284-f7ac72713553",
   "metadata": {},
   "outputs": [],
   "source": [
    "m = 1\n",
    "b = 0\n",
    "y = m*x + b\n",
    "\n",
    "fig, ax = plt.subplots()\n",
    "\n",
    "# graph spines\n",
    "ax.spines['left'].set_position('zero')\n",
    "ax.spines['right'].set_color('none')\n",
    "ax.spines['bottom'].set_position('zero')\n",
    "ax.spines['top'].set_color('none')\n",
    "ax.xaxis.set_ticks_position('bottom')\n",
    "ax.yaxis.set_ticks_position('left')\n",
    "\n",
    "ax.plot(x, y)\n",
    "plt.plot(0, 0, marker='o', markersize=10, color=\"red\")\n",
    "ax.text(.5, .5, 'b', size=15)\n",
    "\n",
    "plt.plot(3, 0, marker='o', markersize=10, color=\"red\")\n",
    "ax.text(3.5,0.5, 'x1', size=15)\n",
    "\n",
    "plt.plot(0, 3, marker='o', markersize=10, color=\"red\")\n",
    "ax.text(0.5,3.5, 'y1', size=15)\n",
    "\n",
    "plt.plot(3, 3, marker='o', markersize=10, color=\"red\")\n",
    "ax.text(3.5,3.5, '(x1, y1)', size=15);\n",
    "\n",
    "plt.plot(7, 0, marker='o', markersize=10, color=\"red\")\n",
    "ax.text(7.5,0.5, 'x2', size=15)\n",
    "\n",
    "plt.plot(0, 7, marker='o', markersize=10, color=\"red\")\n",
    "ax.text(0.5,7.5, 'y2', size=15)\n",
    "\n",
    "plt.plot(3, 3, marker='o', markersize=10, color=\"red\")\n",
    "ax.text(3.5,3.5, '(x1, y1)', size=15);\n",
    "\n",
    "plt.plot(7, 7, marker='o', markersize=10, color=\"red\")\n",
    "ax.text(7.5,7.5, '(x2, y2)', size=15);\n",
    "\n",
    "# plot the rise and run\n",
    "plt.plot([3,3], [3,7])\n",
    "plt.plot([3,7], [7,7])\n",
    "\n",
    "ax.text(10,10, 'y = mx + b', size=15);"
   ]
  },
  {
   "cell_type": "markdown",
   "id": "4c54c581-25e6-4f43-a894-7166d54c85f7",
   "metadata": {},
   "source": [
    "m = rise / run\\\n",
    "$m = (y2 - y1) / (x2 - x1)$"
   ]
  },
  {
   "cell_type": "markdown",
   "id": "b4d38013-f091-4a20-8bfa-b96a19ffd62b",
   "metadata": {},
   "source": [
    "Another property of \"linear\" functions - line segments map proprtionally to line segments - a point 2/3 of the way between segment (x1,x2) will be 2/3 of the way between (y1,y2)"
   ]
  },
  {
   "cell_type": "code",
   "execution_count": null,
   "id": "277c8c77-78af-491f-82a1-5fc180ca151d",
   "metadata": {},
   "outputs": [],
   "source": [
    "m = 1\n",
    "b = 0\n",
    "y = m*x + b\n",
    "\n",
    "fig, (ax, ax2) = plt.subplots(2,1)\n",
    "\n",
    "# graph spines\n",
    "ax.get_yaxis().set_visible(False)\n",
    "ax.spines['left'].set_color('none')\n",
    "ax.spines['right'].set_color('none')\n",
    "ax.spines['bottom'].set_position('zero')\n",
    "ax.spines['top'].set_color('none')\n",
    "ax.xaxis.set_ticks_position('bottom')\n",
    "ax.yaxis.set_ticks_position('none')\n",
    "\n",
    "ax.set_xlim([-10, 10])\n",
    "\n",
    "ax.plot(3, 0, marker='o', markersize=10, color=\"red\")\n",
    "ax.text(3.5,0, 'x1', size=15)\n",
    "\n",
    "ax.plot(7, 0, marker='o', markersize=10, color=\"red\")\n",
    "ax.text(7.5,0, 'x2', size=15)\n",
    "\n",
    "ax.plot([3,7], [0,0], color=\"red\", linewidth=6)\n",
    "\n",
    "ax.text(12,0, 'x', size=15);\n",
    "\n",
    "# --------------\n",
    "\n",
    "# graph spines\n",
    "ax2.get_yaxis().set_visible(False)\n",
    "ax2.spines['left'].set_color('none')\n",
    "ax2.spines['right'].set_color('none')\n",
    "ax2.spines['bottom'].set_position('zero')\n",
    "ax2.spines['top'].set_color('none')\n",
    "ax2.xaxis.set_ticks_position('bottom')\n",
    "ax2.yaxis.set_ticks_position('none')\n",
    "\n",
    "ax2.set_xlim([-10, 10])\n",
    "\n",
    "ax2.plot(7, 0, marker='o', markersize=10, color=\"red\")\n",
    "ax2.text(7.5,0, 'y2', size=15)\n",
    "\n",
    "ax2.plot(3, 0, marker='o', markersize=10, color=\"red\")\n",
    "ax2.text(3.5,0, 'y1', size=15)\n",
    "\n",
    "ax2.plot([3,7], [0,0], color=\"red\", linewidth=6)\n",
    "\n",
    "ax2.text(12,0, 'y', size=15);"
   ]
  },
  {
   "cell_type": "markdown",
   "id": "f869dfd4-735f-4712-abff-2139a1cc1843",
   "metadata": {},
   "source": [
    "Generalize this property to higher dimensions\n",
    "\n",
    "**Definition of Affine**\n",
    "\n",
    "A function $ f: \\mathbb{R}^n \\rightarrow \\mathbb{R}^m $ is called affine if for every $u,v \\in \\mathbb{R}^n$ and for every $ t \\in [0,1]$\\\n",
    "$f((1-t)u + tv) = (1-t)f(u) + tf(v)$"
   ]
  },
  {
   "cell_type": "markdown",
   "id": "51523008-9440-4437-996b-72aa9148828b",
   "metadata": {},
   "source": [
    "![Affine](static/unit1_affine.png)\n",
    "\n",
    "$ f(1/3u + 2/3v) = 1/3f(u) + 2/3f(v)$"
   ]
  },
  {
   "cell_type": "markdown",
   "id": "c0b09698-4f86-4f54-a12e-171eae201e90",
   "metadata": {},
   "source": [
    "**Definition of Linear**\n",
    "\n",
    "A function $ f: \\mathbb{R}^n \\rightarrow \\mathbb{R}^m $ is called linear if $f(u + v) = f(u) + f(v)$ and $f(au) = af(u)$ for every $u,v \\in \\mathbb{R}^n$ and for every $a \\in \\mathbb{R}$"
   ]
  },
  {
   "cell_type": "markdown",
   "id": "164081e3-f3be-4750-8853-7fa7f5e7a220",
   "metadata": {},
   "source": [
    "Excercise: Show that $f$ is linear iff $f$ is affine and $f(0) = 0$"
   ]
  },
  {
   "cell_type": "markdown",
   "id": "951f4351-f4ee-4770-a1b1-dd3267cf7a56",
   "metadata": {},
   "source": [
    "**Is $ f(x) = x^2$ affine? No**\n",
    "\n",
    "$u = 2$\\\n",
    "$v = 4$\\\n",
    "$t = .75$\n",
    "\n",
    "$f(.25*2 + .75*4) = .25*f(2) + .75*f(4)$\\\n",
    "$f(3.5) = .25*4 + .75*16$\\\n",
    "$12.25 != 13$\n",
    "\n",
    "**Is it linear? No**\\\n",
    "$f(2 + 4) = $f(2) + f(4)\\\n",
    "$36 != 20$"
   ]
  },
  {
   "cell_type": "markdown",
   "id": "0d7d585b-2e0c-4b2e-ab34-83066c0e1864",
   "metadata": {},
   "source": [
    "**Is $ f(x) = 1/2x + 2$ affine? Yes**\n",
    "\n",
    "$u = 2$\\\n",
    "$v = 4$\\\n",
    "$t = .75$\n",
    "\n",
    "$f(.25*2 + .75*4) = .25*f(2) + .75*f(4)$\\\n",
    "$f(3.5) = .25*3 + .75*4 $\\\n",
    "$3.75 = 3.75$\n",
    "\n",
    "**Is it linear? No (it's true, it's not linear by the definition above)** \\\n",
    "$f(2+4) = f(2) + f(4)$\\\n",
    "$5 != 3 + 4$\n",
    "\n",
    "$f(0) = 2$"
   ]
  },
  {
   "cell_type": "markdown",
   "id": "c6060c34-5759-4148-b5db-6f3d0e05b678",
   "metadata": {},
   "source": [
    "### Affine Functions as Linear Functions\n",
    "\n",
    "* Linear algebra focuses on linear functions\n",
    "* We can use linear algebra to study affine functions\n",
    "* An affine function is just like a linear function except it doesn't satisfy the property that $f(0) = 0$ (an affine function is kind of like linear function plus a constant - $f(0)$ is some constant instead of 0)\n",
    "\n",
    "1) If $ g: \\mathbb{R}^n \\rightarrow \\mathbb{R}^m $ is a fixed affine function, then $g(x) - g(0)$ is a linear function. We can apply linear algebra theorems to $g(x)-g(0)$ then add back $g(0)$.\n",
    "2) For the class of affine functions from $\\mathbb{R}^n \\rightarrow \\mathbb{R}^m$: This class is isomorphic to the class of linear functions from $\\mathbb{R}^n+1 \\rightarrow \\mathbb{R}^m$\n",
    "\n",
    "**The translation**\\\n",
    "$g:\\mathbb{R}^n \\rightarrow \\mathbb{R}^m$ is affine\\\n",
    "implies: $g(x) = l(x) + c$ (Note: $x \\in \\mathbb{R}^n)$\\\n",
    "therefore: $f(x,y) = l(x) + cy$ (Note: $x \\in \\mathbb{R}^n, y \\in \\mathbb{R})$\\\n",
    "\n",
    "Using the earlier example of an affine function\\\n",
    "$g(x) = 1/2x + 2$ is affine\\\n",
    "$l(x) = 1/2x$\\\n",
    "$c = 2$\\\n",
    "therefore:\\\n",
    "$f(x,y) = 1/2x + 2y$\\\n",
    "$f(0,0) = 2$ y-intercept\n"
   ]
  },
  {
   "cell_type": "markdown",
   "id": "08ca60ba-6ded-4b3e-b5e3-e2c66d8f7ac8",
   "metadata": {},
   "source": [
    "### Operations on Real Matrices"
   ]
  },
  {
   "cell_type": "markdown",
   "id": "d2875940-08b6-4fcf-8b0b-a951bf1bf27d",
   "metadata": {},
   "source": [
    "Definition: A real matrix is a rectangular array of real numbers \n",
    "\n",
    "m rows\\\n",
    "n columns\n",
    "\n",
    "\\begin{bmatrix}\n",
    " a_{11} & a_{12} & ... & a_{1n}\\\\\n",
    " a_{21} & a_{22} & ... & a_{2n}\\\\\n",
    " a_{m1} & a_{m2} & ... & a_{mn}\\\\\n",
    "\\end{bmatrix}\n",
    "\n",
    "If $A \\in \\mathbb{R}^{n*m}$, we sometimes write $A = [a_{ij}]_{j=1...n}^{i=1...m}$\\\n",
    "Each $a_{ij}$ is an entry of $A$ representing the number in the ith row and jth column"
   ]
  },
  {
   "cell_type": "markdown",
   "id": "352daea2-916e-4f6d-a5e8-9962500610bb",
   "metadata": {},
   "source": [
    "#### Primary Operations on Matrices"
   ]
  },
  {
   "cell_type": "markdown",
   "id": "49147f36-e020-4c28-9a47-e5344f10146d",
   "metadata": {},
   "source": [
    "#### Matrix Addition\n",
    "\n",
    "Addition is done element-wise \n",
    "\n",
    "$\n",
    "\\left[\\begin{matrix} a_{11} & a_{12} & a_{13}\\\\ a_{21} & a_{21} & a_{23}\\\\ a_{31} & a_{32} & a_{33} \\end{matrix}\\right]\n",
    "+ \n",
    "\\left[\\begin{matrix} b_{11} & b_{12} & b_{13}\\\\ b_{21} & b_{21} & b_{23}\\\\ b_{31} & b_{32} & b_{33}  \\end{matrix}\\right]\n",
    "= \n",
    "\\left[\\begin{matrix} a_{11}+b_{11} & a_{12}+b_{12} & a_{13}+b_{13}\\\\ a_{21}+b_{21} & a_{21}+b_{22} & a_{23}+b_{23}\\\\ a_{31}+b_{31} & a_{32}+b_{32} & a_{33}+b_{33}  \\end{matrix}\\right]\n",
    "$\n",
    "\n",
    "**Caveat:** You can't add matrices of different dimensions\n",
    "\n",
    "Example\\\n",
    "$\n",
    "\\left[\\begin{matrix} 1 & 2 & 3\\\\ 4 & 5 & 6\\\\ 7 & 8 & 9 \\end{matrix}\\right]\n",
    "+ \n",
    "\\left[\\begin{matrix} 0 & 1 & 0\\\\ 1 & 0 & 1\\\\ 0 & 1 & 0 \\end{matrix}\\right]\n",
    "= \n",
    "\\left[\\begin{matrix} 1 & 3 & 4\\\\ 5 & 5 & 7\\\\ 7 & 9 & 9 \\end{matrix}\\right]\n",
    "$\n"
   ]
  },
  {
   "cell_type": "markdown",
   "id": "378229ae-f036-4ade-9d9e-a7d8707ea0c6",
   "metadata": {},
   "source": [
    "#### Matrix Scalar Multiplication\n",
    "\n",
    "Also performed element-wise similar to addition"
   ]
  },
  {
   "cell_type": "markdown",
   "id": "b19385cb-dc12-4c7d-af12-dc5326dfd26f",
   "metadata": {
    "tags": []
   },
   "source": [
    "$2 * \\left[\\begin{matrix} 0 & 1 & 0\\\\ 1 & 0 & 1\\\\ 0 & 1 & 0 \\end{matrix}\\right] \n",
    "= \\left[\\begin{matrix} 0 & 2 & 0\\\\ 2 & 0 & 2\\\\ 0 & 2 & 0 \\end{matrix}\\right] $"
   ]
  },
  {
   "cell_type": "markdown",
   "id": "4a4d1eff-eed2-49a3-a4d6-345335669ab0",
   "metadata": {},
   "source": [
    "### Summation and Applications"
   ]
  },
  {
   "cell_type": "markdown",
   "id": "fedb8795-1dfb-49c8-9aad-89d65233c277",
   "metadata": {},
   "source": [
    "Definition:\n",
    "\n",
    "$\\sum_{k=1}^n a_k = a_1 + a_2 + ... a_n$\n",
    "\n",
    "More formally: Given a sequence <$a_k$>, Let $m, n$ be integers, we'll define $\\sum_{k=m}^n a_k$ by induction on n.\n",
    "\n",
    "Base Case: if $m > n$, then $\\sum_{k=m}^n a_k = 0$\\\n",
    "Inductive Case: Assume $m>=n$ and that $\\sum_{k=m}^n a_k$ is defined\\\n",
    "Define: $\\sum_{k=m}^{n+1} a_k$ = $\\sum_{k=m}^n a_k + a_{n+1}$\n",
    "\n",
    "**Applications:**\n",
    "\n",
    "**Inner product** on $\\mathbb{R}^n$ (multiply element-wise and sum the results)\\\n",
    "<$u,v$> = $\\sum_{k=1}^n u_k * v_k$\n",
    "\n",
    "Example of inner product:\\\n",
    "$u = [1,2,3]$\\\n",
    "$v = [0,7,0]$\\\n",
    "$<u,v> = (1*0) + (2*7) + (3*0) = 14$\n",
    "\n",
    "The inner product results in a scalar value.\n",
    "\n",
    "**Properties of Linear Functions (linear functions preserve additivity)** \\\n",
    "If $u_1, u_2, ... u_p \\in \\mathbb{R}^n$ and $f$ is a linear function with domain $\\mathbb{R}^n$ then:\\\n",
    "$f(\\sum_{k=1}^p u_k) = \\sum_{k=1}^p f(u_k)$\n",
    "\n",
    "**Vector Components - Important** \\\n",
    "for $i=1...n$ define $e_i$ as the vector in $\\mathbb{R}^n$ with 1 in the ith position and 0 elsewhere.\\\n",
    "$e_1 = [1,0,0,0...n]$\\\n",
    "$e_2 = [0,1,0,0...n]$\\\n",
    "$e_n = [0,0,0,0...1]$\n",
    "\n",
    "With this definition, we can do 2 things:\n",
    "1) For any $x \\in \\mathbb{R}^n$, we can write $\\vec{x} = \\sum_{k=1}^n x_k*\\vec{e_k}$\n",
    "   * $\\vec{e_k}$ is a vector\n",
    "   * $x_k$ is the inner product defined below\n",
    "   * Takeaway: A vector, $\\vec{x}$, can be rewritten as the sum of each of its coefficients ($x_k$) multiplied by a basis vector ($e_i$)\n",
    "2) $x_k = <x, e_k>$\n",
    "   * This allows you to get each individual vector element\n",
    "   * Takeaway: If you have a vector, $\\vec{x}$, and want to get the kth element, you can express that through the inner product with $e_i$\n"
   ]
  },
  {
   "cell_type": "markdown",
   "id": "4778f08c-1886-49dc-ac23-244cd313303e",
   "metadata": {},
   "source": [
    "A very simple example:\\\n",
    "$ x = [1,2,3] $\\\n",
    "$ n = 3 $\\\n",
    "$ e_1 = [1,0,0]$\\\n",
    "$ e_2 = [0,1,0]$\\\n",
    "$ e_3 = [0,0,1]$\n",
    "\n",
    "$ x_1 = <x, e_1> = (1*1) + (2*0) + (3*0) = 1$\\\n",
    "$ x_2 = <x, e_2> = (1*0) + (2*1) + (3*0) = 2$\\\n",
    "$ x_3 = <x, e_3> = (1*0) + (2*0) + (3*1) = 3$\n",
    "\n",
    "$ \\vec{x} = (1 * [1,0,0]) + (2 * [0,1,0]) + (3 * [0,0,1])$\\\n",
    "$ \\vec{x} = [1,0,0] + [0,2,0] + [0,3,0]$\\\n",
    "$ \\vec{x} = [1,2,3]$"
   ]
  },
  {
   "cell_type": "markdown",
   "id": "9b46ac9f-3246-4e16-b000-d4e5243226a6",
   "metadata": {},
   "source": [
    "### Vectors as Single-Valued Linear Functions"
   ]
  },
  {
   "cell_type": "code",
   "execution_count": null,
   "id": "cf051bbf-0543-4966-a13b-7d34d02dc710",
   "metadata": {},
   "outputs": [],
   "source": []
  }
 ],
 "metadata": {
  "kernelspec": {
   "display_name": "Python 3 (ipykernel)",
   "language": "python",
   "name": "python3"
  },
  "language_info": {
   "codemirror_mode": {
    "name": "ipython",
    "version": 3
   },
   "file_extension": ".py",
   "mimetype": "text/x-python",
   "name": "python",
   "nbconvert_exporter": "python",
   "pygments_lexer": "ipython3",
   "version": "3.8.10"
  }
 },
 "nbformat": 4,
 "nbformat_minor": 5
}
