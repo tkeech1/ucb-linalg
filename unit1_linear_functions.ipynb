{
 "cells": [
  {
   "cell_type": "markdown",
   "id": "11b21fa2-ff96-4381-ab12-c16e1db37fa8",
   "metadata": {},
   "source": [
    "## Unit 1 - Linear Functions"
   ]
  },
  {
   "cell_type": "markdown",
   "id": "62077e5e-1744-45db-b252-e5d681cd4467",
   "metadata": {},
   "source": [
    "### What is a Function?"
   ]
  },
  {
   "cell_type": "markdown",
   "id": "a6c68988-7986-464c-af03-c2dd00f19ca3",
   "metadata": {},
   "source": [
    "Definition of a function - A function $f$ is a rule that assigns to each input $x$ in its domain an output $f(x)$ in its codomain"
   ]
  },
  {
   "cell_type": "markdown",
   "id": "7f5a2049-4c65-43ac-8697-646f6edfbf51",
   "metadata": {},
   "source": [
    "**Terms:**\n",
    "\n",
    "* Domain - Set of all inputs\n",
    "* Codomain - Superset of all outputs\n",
    "* Range - Set of all outputs"
   ]
  },
  {
   "cell_type": "markdown",
   "id": "b17d2f91-a885-4982-9dad-91b493ba3b35",
   "metadata": {},
   "source": [
    "**Notation:**\n",
    "    \n",
    "* $ f: \\mathbb{R}^n \\rightarrow \\mathbb{R}^m $\n",
    " * $\\mathbb{R}^n = $ Domain of $f$ \n",
    " * $\\mathbb{R}^m = $ Codomain of $f$\n",
    " \n",
    " $\\mathbb{R}$: real numbers \\\n",
    " $\\mathbb{R}^n$: n-dimensional vector space. For example $[3,5,8]$ is a 3-element vector. $[3,5,8] \\in \\mathbb{R}^3$"
   ]
  },
  {
   "cell_type": "markdown",
   "id": "19da3f5d-7a53-4ef4-a1f7-2f3025bbe690",
   "metadata": {},
   "source": [
    "**Formally:** \n",
    "\n",
    "A function is a triple <$f$, D, C> where:\n",
    "\n",
    "D = domain\\\n",
    "C = codomain\\\n",
    "$ f \\subseteq D * C $ satisfying the function property $ (\\forall x \\in D) (\\exists! y \\in C)$ such that $(<x,y> \\in f)$\n",
    "\n",
    "Meaning - f is an element of DxC satisfying the function property that for every x in D, there exists a unique y in C such that the pair (x,y) is in f. "
   ]
  },
  {
   "cell_type": "markdown",
   "id": "4beb7aa5-04ed-432c-ba53-6b401fc5f672",
   "metadata": {},
   "source": [
    "**Representing a function:**\n",
    "\n",
    "Formulas:\\\n",
    " $f(x) = x^2$\\\n",
    " $y = x^2$\\\n",
    " $x \\rightarrow x^2$\\\n",
    " $x^2$\n",
    " \n",
    "Words:\\\n",
    "Multiply the input by itself and output the result\n",
    "\n",
    "Sets:\\\n",
    "$ { (x,y): y = x^2} $"
   ]
  },
  {
   "cell_type": "markdown",
   "id": "ae397fea-31dc-409b-98cc-89194462a290",
   "metadata": {},
   "source": [
    "Graphs:"
   ]
  },
  {
   "cell_type": "code",
   "execution_count": null,
   "id": "c9a2cae2-1b9a-496c-9fef-12fef2c893e9",
   "metadata": {},
   "outputs": [],
   "source": [
    "import matplotlib.pyplot as plt\n",
    "import numpy as np\n",
    "\n",
    "# create 1000 equally spaced points between -10 and 10\n",
    "x = np.linspace(-10, 10, 100)\n",
    "\n",
    "# calculate the y value for each element of the x vector\n",
    "y = x**2\n",
    "\n",
    "fig, ax = plt.subplots()\n",
    "\n",
    "# graph spines\n",
    "ax.spines['left'].set_position('zero')\n",
    "ax.spines['right'].set_color('none')\n",
    "ax.spines['bottom'].set_position('zero')\n",
    "ax.spines['top'].set_color('none')\n",
    "ax.xaxis.set_ticks_position('bottom')\n",
    "ax.yaxis.set_ticks_position('left')\n",
    "\n",
    "ax.plot(x, y); # the semicolon supppresses the text output of from matplotlib"
   ]
  },
  {
   "cell_type": "markdown",
   "id": "2b41dd51-368d-495f-8aeb-5d3ab242b286",
   "metadata": {},
   "source": [
    "### What is a Linear Function?\n",
    "\n",
    "In single variable calculus, a \"linear\" function has the form:\\\n",
    "$y=mx +b$\\\n",
    "Where m = slope and b = y-intercept"
   ]
  },
  {
   "cell_type": "code",
   "execution_count": null,
   "id": "e6823924-2262-49d9-9284-f7ac72713553",
   "metadata": {},
   "outputs": [],
   "source": [
    "m = 1\n",
    "b = 0\n",
    "y = m*x + b\n",
    "\n",
    "fig, ax = plt.subplots()\n",
    "\n",
    "# graph spines\n",
    "ax.spines['left'].set_position('zero')\n",
    "ax.spines['right'].set_color('none')\n",
    "ax.spines['bottom'].set_position('zero')\n",
    "ax.spines['top'].set_color('none')\n",
    "ax.xaxis.set_ticks_position('bottom')\n",
    "ax.yaxis.set_ticks_position('left')\n",
    "\n",
    "ax.plot(x, y)\n",
    "plt.plot(0, 0, marker='o', markersize=10, color=\"red\")\n",
    "ax.text(.5, .5, 'b', size=15)\n",
    "\n",
    "plt.plot(3, 0, marker='o', markersize=10, color=\"red\")\n",
    "ax.text(3.5,0.5, 'x1', size=15)\n",
    "\n",
    "plt.plot(0, 3, marker='o', markersize=10, color=\"red\")\n",
    "ax.text(0.5,3.5, 'y1', size=15)\n",
    "\n",
    "plt.plot(3, 3, marker='o', markersize=10, color=\"red\")\n",
    "ax.text(3.5,3.5, '(x1, y1)', size=15);\n",
    "\n",
    "plt.plot(7, 0, marker='o', markersize=10, color=\"red\")\n",
    "ax.text(7.5,0.5, 'x2', size=15)\n",
    "\n",
    "plt.plot(0, 7, marker='o', markersize=10, color=\"red\")\n",
    "ax.text(0.5,7.5, 'y2', size=15)\n",
    "\n",
    "plt.plot(3, 3, marker='o', markersize=10, color=\"red\")\n",
    "ax.text(3.5,3.5, '(x1, y1)', size=15);\n",
    "\n",
    "plt.plot(7, 7, marker='o', markersize=10, color=\"red\")\n",
    "ax.text(7.5,7.5, '(x2, y2)', size=15);\n",
    "\n",
    "# plot the rise and run\n",
    "plt.plot([3,3], [3,7])\n",
    "plt.plot([3,7], [7,7])\n",
    "\n",
    "ax.text(10,10, 'y = mx + b', size=15);"
   ]
  },
  {
   "cell_type": "markdown",
   "id": "4c54c581-25e6-4f43-a894-7166d54c85f7",
   "metadata": {},
   "source": [
    "m = rise / run\\\n",
    "$m = (y2 - y1) / (x2 - x1)$"
   ]
  },
  {
   "cell_type": "markdown",
   "id": "b4d38013-f091-4a20-8bfa-b96a19ffd62b",
   "metadata": {},
   "source": [
    "Another property of \"linear\" functions - line segments map proprtionally to line segments - a point 2/3 of the way between segment (x1,x2) will be 2/3 of the way between (y1,y2)"
   ]
  },
  {
   "cell_type": "code",
   "execution_count": null,
   "id": "277c8c77-78af-491f-82a1-5fc180ca151d",
   "metadata": {},
   "outputs": [],
   "source": [
    "m = 1\n",
    "b = 0\n",
    "y = m*x + b\n",
    "\n",
    "fig, (ax, ax2) = plt.subplots(2,1)\n",
    "\n",
    "# graph spines\n",
    "ax.get_yaxis().set_visible(False)\n",
    "ax.spines['left'].set_color('none')\n",
    "ax.spines['right'].set_color('none')\n",
    "ax.spines['bottom'].set_position('zero')\n",
    "ax.spines['top'].set_color('none')\n",
    "ax.xaxis.set_ticks_position('bottom')\n",
    "ax.yaxis.set_ticks_position('none')\n",
    "\n",
    "ax.set_xlim([-10, 10])\n",
    "\n",
    "ax.plot(3, 0, marker='o', markersize=10, color=\"red\")\n",
    "ax.text(3.5,0, 'x1', size=15)\n",
    "\n",
    "ax.plot(7, 0, marker='o', markersize=10, color=\"red\")\n",
    "ax.text(7.5,0, 'x2', size=15)\n",
    "\n",
    "ax.plot([3,7], [0,0], color=\"red\", linewidth=6)\n",
    "\n",
    "ax.text(12,0, 'x', size=15);\n",
    "\n",
    "# --------------\n",
    "\n",
    "# graph spines\n",
    "ax2.get_yaxis().set_visible(False)\n",
    "ax2.spines['left'].set_color('none')\n",
    "ax2.spines['right'].set_color('none')\n",
    "ax2.spines['bottom'].set_position('zero')\n",
    "ax2.spines['top'].set_color('none')\n",
    "ax2.xaxis.set_ticks_position('bottom')\n",
    "ax2.yaxis.set_ticks_position('none')\n",
    "\n",
    "ax2.set_xlim([-10, 10])\n",
    "\n",
    "ax2.plot(7, 0, marker='o', markersize=10, color=\"red\")\n",
    "ax2.text(7.5,0, 'y2', size=15)\n",
    "\n",
    "ax2.plot(3, 0, marker='o', markersize=10, color=\"red\")\n",
    "ax2.text(3.5,0, 'y1', size=15)\n",
    "\n",
    "ax2.plot([3,7], [0,0], color=\"red\", linewidth=6)\n",
    "\n",
    "ax2.text(12,0, 'y', size=15);"
   ]
  },
  {
   "cell_type": "markdown",
   "id": "f869dfd4-735f-4712-abff-2139a1cc1843",
   "metadata": {},
   "source": [
    "Generalize this property to higher dimensions\n",
    "\n",
    "**Definition of Affine**\n",
    "\n",
    "A function $ f: \\mathbb{R}^n \\rightarrow \\mathbb{R}^m $ is called affine if for every $u,v \\in \\mathbb{R}^n$ and for every $ t \\in [0,1]$\\\n",
    "$f((1-t)u + tv) = (1-t)f(u) + tf(v)$"
   ]
  },
  {
   "cell_type": "markdown",
   "id": "51523008-9440-4437-996b-72aa9148828b",
   "metadata": {},
   "source": [
    "![Affine](static/unit1_affine.png)\n",
    "\n",
    "$ f(1/3u + 2/3v) = 1/3f(u) + 2/3f(v)$"
   ]
  },
  {
   "cell_type": "markdown",
   "id": "c0b09698-4f86-4f54-a12e-171eae201e90",
   "metadata": {},
   "source": [
    "**Definition of Linear**\n",
    "\n",
    "A function $ f: \\mathbb{R}^n \\rightarrow \\mathbb{R}^m $ is called linear if $f(u + v) = f(u) + f(v)$ and $f(au) = af(u)$ for every $u,v \\in \\mathbb{R}^n$ and for every $a \\in \\mathbb{R}$\n",
    "\n",
    "This is referred to later as **preservation of addition and scalar multiplication** (since a is scalar)"
   ]
  },
  {
   "cell_type": "markdown",
   "id": "164081e3-f3be-4750-8853-7fa7f5e7a220",
   "metadata": {},
   "source": [
    "Excercise: Show that $f$ is linear iff $f$ is affine and $f(0) = 0$"
   ]
  },
  {
   "cell_type": "markdown",
   "id": "951f4351-f4ee-4770-a1b1-dd3267cf7a56",
   "metadata": {},
   "source": [
    "**Is $ f(x) = x^2$ affine? No**\n",
    "\n",
    "$u = 2$\\\n",
    "$v = 4$\\\n",
    "$t = .75$\n",
    "\n",
    "$f(.25*2 + .75*4) = .25*f(2) + .75*f(4)$\\\n",
    "$f(3.5) = .25*4 + .75*16$\\\n",
    "$12.25 != 13$\n",
    "\n",
    "**Is it linear? No**\\\n",
    "$f(2 + 4) = $f(2) + f(4)\\\n",
    "$36 != 20$"
   ]
  },
  {
   "cell_type": "markdown",
   "id": "0d7d585b-2e0c-4b2e-ab34-83066c0e1864",
   "metadata": {},
   "source": [
    "**Is $ f(x) = 1/2x + 2$ affine? Yes**\n",
    "\n",
    "$u = 2$\\\n",
    "$v = 4$\\\n",
    "$t = .75$\n",
    "\n",
    "$f(.25*2 + .75*4) = .25*f(2) + .75*f(4)$\\\n",
    "$f(3.5) = .25*3 + .75*4 $\\\n",
    "$3.75 = 3.75$\n",
    "\n",
    "**Is it linear? No (it's true, it's not linear by the definition above)** \\\n",
    "$f(2+4) = f(2) + f(4)$\\\n",
    "$5 != 3 + 4$\n",
    "\n",
    "$f(0) = 2$"
   ]
  },
  {
   "cell_type": "markdown",
   "id": "c6060c34-5759-4148-b5db-6f3d0e05b678",
   "metadata": {},
   "source": [
    "### Affine Functions as Linear Functions\n",
    "\n",
    "* Linear algebra focuses on linear functions\n",
    "* We can use linear algebra to study affine functions\n",
    "* An affine function is just like a linear function except it doesn't satisfy the property that $f(0) = 0$ (an affine function is kind of like linear function plus a constant - $f(0)$ is some constant instead of 0)\n",
    "\n",
    "1) If $ g: \\mathbb{R}^n \\rightarrow \\mathbb{R}^m $ is a fixed affine function, then $g(x) - g(0)$ is a linear function. We can apply linear algebra theorems to $g(x)-g(0)$ then add back $g(0)$.\n",
    "2) For the class of affine functions from $\\mathbb{R}^n \\rightarrow \\mathbb{R}^m$: This class is isomorphic to the class of linear functions from $\\mathbb{R}^n+1 \\rightarrow \\mathbb{R}^m$\n",
    "\n",
    "**The translation**\\\n",
    "$g:\\mathbb{R}^n \\rightarrow \\mathbb{R}^m$ is affine\\\n",
    "implies: $g(x) = l(x) + c$ (Note: $x \\in \\mathbb{R}^n)$\\\n",
    "therefore: $f(x,y) = l(x) + cy$ (Note: $x \\in \\mathbb{R}^n, y \\in \\mathbb{R})$\\\n",
    "\n",
    "Using the earlier example of an affine function\\\n",
    "$g(x) = 1/2x + 2$ is affine\\\n",
    "$l(x) = 1/2x$\\\n",
    "$c = 2$\\\n",
    "therefore:\\\n",
    "$f(x,y) = 1/2x + 2y$\\\n",
    "$f(0,0) = 2$ y-intercept\n"
   ]
  },
  {
   "cell_type": "markdown",
   "id": "08ca60ba-6ded-4b3e-b5e3-e2c66d8f7ac8",
   "metadata": {},
   "source": [
    "### Operations on Real Matrices"
   ]
  },
  {
   "cell_type": "markdown",
   "id": "d2875940-08b6-4fcf-8b0b-a951bf1bf27d",
   "metadata": {},
   "source": [
    "Definition: A real matrix is a rectangular array of real numbers \n",
    "\n",
    "m rows\\\n",
    "n columns\n",
    "\n",
    "\\begin{bmatrix}\n",
    " a_{11} & a_{12} & ... & a_{1n}\\\\\n",
    " a_{21} & a_{22} & ... & a_{2n}\\\\\n",
    " a_{m1} & a_{m2} & ... & a_{mn}\\\\\n",
    "\\end{bmatrix}\n",
    "\n",
    "If $A \\in \\mathbb{R}^{n*m}$, we sometimes write $A = [a_{ij}]_{j=1...n}^{i=1...m}$\\\n",
    "Each $a_{ij}$ is an entry of $A$ representing the number in the ith row and jth column"
   ]
  },
  {
   "cell_type": "markdown",
   "id": "352daea2-916e-4f6d-a5e8-9962500610bb",
   "metadata": {},
   "source": [
    "### Primary Operations on Matrices"
   ]
  },
  {
   "cell_type": "markdown",
   "id": "49147f36-e020-4c28-9a47-e5344f10146d",
   "metadata": {
    "tags": []
   },
   "source": [
    "#### Matrix Addition\n",
    "\n",
    "Addition is done element-wise \n",
    "\n",
    "$\n",
    "\\left[\\begin{matrix} a_{11} & a_{12} & a_{13}\\\\ a_{21} & a_{21} & a_{23}\\\\ a_{31} & a_{32} & a_{33} \\end{matrix}\\right]\n",
    "+ \n",
    "\\left[\\begin{matrix} b_{11} & b_{12} & b_{13}\\\\ b_{21} & b_{21} & b_{23}\\\\ b_{31} & b_{32} & b_{33}  \\end{matrix}\\right]\n",
    "= \n",
    "\\left[\\begin{matrix} a_{11}+b_{11} & a_{12}+b_{12} & a_{13}+b_{13}\\\\ a_{21}+b_{21} & a_{21}+b_{22} & a_{23}+b_{23}\\\\ a_{31}+b_{31} & a_{32}+b_{32} & a_{33}+b_{33}  \\end{matrix}\\right]\n",
    "$\n",
    "\n",
    "**Caveat:** You can't add matrices of different dimensions\n",
    "\n",
    "Example\\\n",
    "$\n",
    "\\left[\\begin{matrix} 1 & 2 & 3\\\\ 4 & 5 & 6\\\\ 7 & 8 & 9 \\end{matrix}\\right]\n",
    "+ \n",
    "\\left[\\begin{matrix} 0 & 1 & 0\\\\ 1 & 0 & 1\\\\ 0 & 1 & 0 \\end{matrix}\\right]\n",
    "= \n",
    "\\left[\\begin{matrix} 1 & 3 & 3\\\\ 5 & 5 & 7\\\\ 7 & 9 & 9 \\end{matrix}\\right]\n",
    "$\n"
   ]
  },
  {
   "cell_type": "code",
   "execution_count": null,
   "id": "d313165d-6640-4f1a-9a49-2009e0d4df25",
   "metadata": {},
   "outputs": [],
   "source": [
    "# Matrix addition in Python\n",
    "import numpy as np\n",
    "\n",
    "a = [[1,2,3],[4,5,6],[7,8,9]]\n",
    "b = [[0,1,0],[1,0,1],[0,1,0]]\n",
    "\n",
    "c = np.add(a,b)\n",
    "c\n"
   ]
  },
  {
   "cell_type": "markdown",
   "id": "378229ae-f036-4ade-9d9e-a7d8707ea0c6",
   "metadata": {},
   "source": [
    "#### Matrix Scalar Multiplication\n",
    "\n",
    "Also performed element-wise similar to addition"
   ]
  },
  {
   "cell_type": "markdown",
   "id": "b19385cb-dc12-4c7d-af12-dc5326dfd26f",
   "metadata": {
    "tags": []
   },
   "source": [
    "$2 * \\left[\\begin{matrix} 0 & 1 & 0\\\\ 1 & 0 & 1\\\\ 0 & 1 & 0 \\end{matrix}\\right] \n",
    "= \\left[\\begin{matrix} 0 & 2 & 0\\\\ 2 & 0 & 2\\\\ 0 & 2 & 0 \\end{matrix}\\right] $"
   ]
  },
  {
   "cell_type": "code",
   "execution_count": null,
   "id": "5c62a7e0-61ca-4877-a28b-1b179d1f32cf",
   "metadata": {},
   "outputs": [],
   "source": [
    "# Scalar multiplication in Python\n",
    "import numpy as np\n",
    "\n",
    "a = 2\n",
    "b = [[0,1,0],[1,0,1],[0,1,0]]\n",
    "\n",
    "c = np.multiply(a,b)\n",
    "c"
   ]
  },
  {
   "cell_type": "markdown",
   "id": "4a4d1eff-eed2-49a3-a4d6-345335669ab0",
   "metadata": {},
   "source": [
    "### Summation and Applications"
   ]
  },
  {
   "cell_type": "markdown",
   "id": "fedb8795-1dfb-49c8-9aad-89d65233c277",
   "metadata": {},
   "source": [
    "Definition:\n",
    "\n",
    "$\\sum_{k=1}^n a_k = a_1 + a_2 + ... a_n$\n",
    "\n",
    "More formally: Given a sequence <$a_k$>, Let $m, n$ be integers, we'll define $\\sum_{k=m}^n a_k$ by induction on n.\n",
    "\n",
    "Base Case: if $m > n$, then $\\sum_{k=m}^n a_k = 0$\\\n",
    "Inductive Case: Assume $m>=n$ and that $\\sum_{k=m}^n a_k$ is defined\\\n",
    "Define: $\\sum_{k=m}^{n+1} a_k$ = $\\sum_{k=m}^n a_k + a_{n+1}$\n",
    "\n",
    "**Applications:**\n",
    "\n",
    "**Inner product** on $\\mathbb{R}^n$ (multiply element-wise and sum the results)\\\n",
    "<$u,v$> = $\\sum_{k=1}^n u_k * v_k$\n",
    "\n",
    "Example of inner product:\\\n",
    "$u = [1,2,3]$\\\n",
    "$v = [0,7,0]$\\\n",
    "$<u,v> = (1*0) + (2*7) + (3*0) = 14$\n",
    "\n",
    "The inner product results in a scalar value.\n",
    "\n",
    "**Properties of Linear Functions (linear functions preserve additivity)** \\\n",
    "If $u_1, u_2, ... u_p \\in \\mathbb{R}^n$ and $f$ is a linear function with domain $\\mathbb{R}^n$ then:\\\n",
    "$f(\\sum_{k=1}^p u_k) = \\sum_{k=1}^p f(u_k)$\n",
    "\n",
    "**Vector Components - Important** \\\n",
    "for $i=1...n$ define $e_i$ as the vector in $\\mathbb{R}^n$ with 1 in the ith position and 0 elsewhere.\\\n",
    "$e_1 = [1,0,0,0...n]$\\\n",
    "$e_2 = [0,1,0,0...n]$\\\n",
    "$e_n = [0,0,0,0...1]$\n",
    "\n",
    "With this definition, we can do 2 things:\n",
    "1) For any $x \\in \\mathbb{R}^n$, we can write $\\vec{x} = \\sum_{k=1}^n x_k*\\vec{e_k}$\n",
    "   * $\\vec{e_k}$ is a vector\n",
    "   * $x_k$ is the inner product defined below\n",
    "   * Takeaway: A vector, $\\vec{x}$, can be rewritten as the sum of each of its coefficients ($x_k$) multiplied by a basis vector ($e_i$)\n",
    "2) $x_k = <x, e_k>$\n",
    "   * This allows you to get each individual vector element\n",
    "   * Takeaway: If you have a vector, $\\vec{x}$, and want to get the kth element, you can express that through the inner product with $e_i$\n"
   ]
  },
  {
   "cell_type": "markdown",
   "id": "4778f08c-1886-49dc-ac23-244cd313303e",
   "metadata": {},
   "source": [
    "A very simple example:\\\n",
    "$ x = [1,2,3] $\\\n",
    "$ n = 3 $\\\n",
    "$ e_1 = [1,0,0]$\\\n",
    "$ e_2 = [0,1,0]$\\\n",
    "$ e_3 = [0,0,1]$\n",
    "\n",
    "$ x_1 = <x, e_1> = (1*1) + (2*0) + (3*0) = 1$\\\n",
    "$ x_2 = <x, e_2> = (1*0) + (2*1) + (3*0) = 2$\\\n",
    "$ x_3 = <x, e_3> = (1*0) + (2*0) + (3*1) = 3$\n",
    "\n",
    "$ \\vec{x} = (1 * [1,0,0]) + (2 * [0,1,0]) + (3 * [0,0,1])$\\\n",
    "$ \\vec{x} = [1,0,0] + [0,2,0] + [0,3,0]$\\\n",
    "$ \\vec{x} = [1,2,3]$"
   ]
  },
  {
   "cell_type": "code",
   "execution_count": null,
   "id": "bd2916f7-909c-4b3e-b6b1-302c7bc31805",
   "metadata": {},
   "outputs": [],
   "source": [
    "# Inner product of two vectors in Python\n",
    "import numpy as np\n",
    "\n",
    "a = [1,2,3]\n",
    "b = [0,7,0]\n",
    "\n",
    "c = np.inner(a,b)\n",
    "c\n"
   ]
  },
  {
   "cell_type": "markdown",
   "id": "9b46ac9f-3246-4e16-b000-d4e5243226a6",
   "metadata": {
    "tags": []
   },
   "source": [
    "### Vectors as Single-Valued Linear Functions"
   ]
  },
  {
   "cell_type": "markdown",
   "id": "78d1f450-366d-4a8e-aa69-ab9c177e2b45",
   "metadata": {},
   "source": [
    "Theorem: Every linear function $f: \\mathbb{R}^n \\rightarrow \\mathbb{R} $ can be **uniquely** represented as: \\\n",
    "$f(u) = <a,u>$ (inner product) for some $a \\in \\mathbb{R}^n$\n",
    "\n",
    "Earlier we saw that a linear function is any function that preserves addition and scalar multiplication. \n",
    "\n",
    "This theorem says that every linear function can be succinctly represented by one unique, specific vector in $\\mathbb{R}^n $ (i.e. there's a one-to-one correspondence between vectors and linear functions)\n",
    "\n",
    "Proof Sketch:\n",
    "* Since $f$ is linear, $f(u+v) = f(u) + f(v)$ and $f(au) = af(u)$ for all $u,v \\in \\mathbb{R}^n$ and for all $a \\in \\mathbb{R}$\n",
    "* Define $a_i = f(e_i)$ for i=1...n\n",
    "* Claim that the vector $\\vec{a} = [a_1, a_2...a_n]$ represents $f$\n",
    "* Need to show that $f(u) = <a,u>$ for every $u \\in \\mathbb{R}^n$\n",
    "* Let $u \\in \\mathbb{R}^n$\n",
    "* Express $u$ as $ u = \\sum_{k=1}^n u_k*\\vec{e_k}$ (by Vector Components)\n",
    "* $ f(u) = f(\\sum_{k=1}^n u_k*\\vec{e_k})$ (rewriting $u$ according to vector components)\n",
    "* $ f(u) = \\sum_{k=1}^n f(u_k,*\\vec{e_k})$ (by preservation of additivity of linear functions)\n",
    "* $ f(u) = \\sum_{k=1}^n u_kf(\\vec{e_k})$ (by preservation of scalar multiplication)\n",
    "* $ f(u) = \\sum_{k=1}^n u_k * a_k$ (by our first definition)\n",
    "* $ f(u) = <a,u> $ (the previous result is the exact definition of inner product) \n",
    "* To prove unqueness, suppose $ f(u) = <b, u>$ for some $b \\in \\mathbb{R}^n$ and for every $u \\in \\mathbb{R}^n$\n",
    "* $f(e_k) = <b, e_k> = b_k$ (check what happens when you apply $f$ to $e_k$)\n",
    "* But, we defined $a_k = f(e_k)$ so $a_k = b_k$ for $k=1...n$"
   ]
  },
  {
   "cell_type": "markdown",
   "id": "655e5061-0afc-41c4-aac1-12c1daa70320",
   "metadata": {},
   "source": [
    "### Operations on Real Vectors"
   ]
  },
  {
   "cell_type": "markdown",
   "id": "8aa8d2ac-8799-4193-909b-7e5d74a8798c",
   "metadata": {},
   "source": [
    "Definition: A real vector is an ordered list of real numbers. For example, $v = [2, 3, 3.14, 2.5] \\in \\mathbb{R}^4$ \n",
    "\n",
    "Primary Operations on Real Vectors (by example):\n",
    "\n",
    "**Vector Addition**: \\\n",
    "$\n",
    "\\left[\\begin{matrix} 1 \\\\ 2 \\\\ 3 \\end{matrix}\\right]\n",
    "+ \n",
    "\\left[\\begin{matrix} 4 \\\\ 5 \\\\ 6 \\end{matrix}\\right]\n",
    "= \n",
    "\\left[\\begin{matrix} 5 \\\\ 7 \\\\ 9 \\end{matrix}\\right]\n",
    "$\n",
    "\n",
    "Addition is done element-wise.\n",
    "\n",
    "**Scalar Multiplication**: \\\n",
    "$\n",
    "2.5 *\n",
    "\\left[\\begin{matrix} 1 \\\\ 2 \\\\ 3 \\end{matrix}\\right]\n",
    "= \n",
    "\\left[\\begin{matrix} 2.5 \\\\ 5 \\\\ 7.5 \\end{matrix}\\right]\n",
    "$\n",
    "\n",
    "**Inner Product**: \\\n",
    "$\n",
    "\\langle\n",
    "\\left[\\begin{matrix} 1 \\\\ 2 \\\\ 3 \\end{matrix}\\right]\n",
    ", \n",
    "\\left[\\begin{matrix} 4 \\\\ 5 \\\\ 6 \\end{matrix}\\right]\n",
    "\\rangle\n",
    "= \n",
    "(1*4) + (2*5) + (3*6) = 32\n",
    "$\n",
    "\n",
    "*We don't typically define a vector multiplication operation - we don't multiply vectors component-wise Why not?* \\\n",
    "**We think of vectors as representations of linear functions.** Adding two linear functions gives you another linear function (vector addition). Multiplying a linear function by a scalar gives another linear function (scalar multiplication). Composition of two linear functions provides a value (inner product) which corresponds to applying the function. **Multiplying two linear functions gives a quadratic function, not a linear function.** "
   ]
  },
  {
   "cell_type": "code",
   "execution_count": null,
   "id": "15193f91-10aa-4528-a033-bfcd612f25f1",
   "metadata": {},
   "outputs": [],
   "source": [
    "import numpy as np\n",
    "\n",
    "# Vector addition\n",
    "a = [1,2,3]\n",
    "b = [4,5,6]\n",
    "\n",
    "c = np.add(a,b)\n",
    "c"
   ]
  },
  {
   "cell_type": "code",
   "execution_count": null,
   "id": "73577ea4-79ba-4c18-bcb0-e186457fb8ab",
   "metadata": {},
   "outputs": [],
   "source": [
    "import numpy as np\n",
    "\n",
    "# Scalar addition\n",
    "a = 2.5\n",
    "b = [1,2,3]\n",
    "\n",
    "c = np.multiply(a,b)\n",
    "c"
   ]
  },
  {
   "cell_type": "code",
   "execution_count": null,
   "id": "e7e635c3-f86e-4cbb-bf6f-cf7d3e725ab7",
   "metadata": {},
   "outputs": [],
   "source": [
    "import numpy as np\n",
    "\n",
    "# Inner Product\n",
    "a = [1,2,3]\n",
    "b = [4,5,6]\n",
    "\n",
    "c = np.inner(a,b)\n",
    "c"
   ]
  },
  {
   "cell_type": "markdown",
   "id": "b6bab08d-b98e-4cae-87c2-20fdc55a1217",
   "metadata": {},
   "source": [
    "### The Matrix-Vector Product"
   ]
  },
  {
   "cell_type": "markdown",
   "id": "6b64914d-86f6-40a5-8ef2-c110fa0aae73",
   "metadata": {},
   "source": [
    "If $ A \\in \\mathbb{R}^{m*n}$ and $v \\in \\mathbb{R}^n$:\\\n",
    "Define matrix-vector product $Av$ to be the vector in $\\mathbb{R}^{m}$:\\\n",
    "&nbsp;&nbsp;&nbsp;&nbsp; $\\sum_{i=1}^m (\\sum_{j=1}^n a_{ij}v_j)\\vec{e_i}$ (this is the definition for proofs)\\\n",
    "where $A = [a_{ij}]_{i=1..m, j=1..n}$\n",
    "\n",
    "The intuition...\\\n",
    "\n",
    "$\\sum_{i=1}^m<A_i,v>e_i$\n",
    "\n",
    "$m$ is the rows, $n$ is columns\\\n",
    "$A = \\left[\\begin{matrix} a_{11} & a_{12} & a_{1n}\\\\ a_{21} & a_{21} & a_{2n}\\\\ a_{m1} & a_{m2} & a_{mn} \\end{matrix}\\right]$\n",
    "\n",
    "Define $A_i$ = $i$th row of $A$ for $i=1...m$\\\n",
    "$A_i = [a_{i1}, a_{i2} ... a_{in}]$ ( $A_i$ is a row vector)\n",
    "\n",
    "$Av$ = $\n",
    "\\left(\n",
    "\\begin{matrix} <A_1, v> \\\\ <A_2, v> \\\\ <A_m, v> \\end{matrix}\n",
    "\\right)\n",
    "$\n",
    "\n",
    "Example - (2x3) matrix (1x3) matrix:\n",
    "\n",
    "$\\left[\\begin{matrix} 1 & 2 & 3\\\\ 4 & 5 & 6 \\end{matrix}\\right]$\n",
    "$\\left(\\begin{matrix} 1 \\\\ 1 \\\\ 1 \\end{matrix}\\right)$\n",
    "= \n",
    "$\\left(\\begin{matrix} <[1, 2, 3], [1, 1, 1]> \\\\ <[4, 5, 6], [1, 1, 1]> \\end{matrix}\\right)$\n",
    "=\n",
    "$\\left(\\begin{matrix} 1 + 2 + 3 \\\\ 4 + 5 + 6 \\end{matrix}\\right)$\n",
    "= \n",
    "$\\left(\\begin{matrix} 6 \\\\ 15 \\end{matrix}\\right)$\n",
    "\n",
    "Notice if $A \\in \\mathbb{R}^{1*n}$ then the matrix-vector product corresponds to the inner product. See below:\n",
    "\n",
    "$\\left[\\begin{matrix} 1 & 2 & 3 \\end{matrix}\\right]$\n",
    "$\\left(\\begin{matrix} 1 \\\\ 1 \\\\ 1 \\end{matrix}\\right)$\n",
    "= \n",
    "$\\left(\\begin{matrix} <[1, 2, 3], [1, 1, 1]> \\end{matrix}\\right)$\n",
    "=\n",
    "$\\left[\\begin{matrix} 1 + 2 + 3 \\end{matrix}\\right]$\n",
    "= \n",
    "$\\left[\\begin{matrix} 6 \\end{matrix}\\right]$\n",
    "= 6\n",
    "\n"
   ]
  },
  {
   "cell_type": "code",
   "execution_count": null,
   "id": "6c755256-95a7-4b78-b568-aa3e1e4032b2",
   "metadata": {},
   "outputs": [],
   "source": [
    "import numpy as np\n",
    "\n",
    "# Matrix vector product (dot product)\n",
    "a = [[1,2,3],[4,5,6]]\n",
    "b = [1,1,1]\n",
    "\n",
    "c = np.dot(a,b)\n",
    "c"
   ]
  },
  {
   "cell_type": "code",
   "execution_count": null,
   "id": "1b79da00-55e3-4d67-8587-c0c080329509",
   "metadata": {},
   "outputs": [],
   "source": [
    "import numpy as np\n",
    "\n",
    "# Matrix vector product (dot product)\n",
    "a = [1,2,3]\n",
    "b = [1,1,1]\n",
    "\n",
    "c = np.dot(a,b)\n",
    "c"
   ]
  },
  {
   "cell_type": "markdown",
   "id": "4dfa9792-fe3f-4dfc-8470-cfb8cb1f5362",
   "metadata": {},
   "source": [
    "### Matrices as Linear Functions"
   ]
  },
  {
   "cell_type": "markdown",
   "id": "49772bf5-8ed4-4b73-b521-8d65ee1d6228",
   "metadata": {},
   "source": [
    "Theorem: If $f: \\mathbb{R}^n \\rightarrow \\mathbb{R}^m $ is a linear function then $f$ is uniquely represented by a matrix $A \\in \\mathbb{R}^{m*n}$ such that $f(x) = Ax$ for every $x \\in \\mathbb{R}^n$\n",
    "\n",
    "Every linear function has a unique representation as a matrix.\n",
    "\n",
    "Proof Sketch:\n",
    "\n",
    "* Since $f$ is linear, for $x,y \\in \\mathbb{R}^n$\n",
    "  * $f(x+y) = f(x) + f(y)$\n",
    "  * $f(ax) = af(x)$\n",
    "* Define $for i=1..m, j=1..n$\n",
    "  * $a_{ij} = <f(\\vec{e_j}), e_i>$, $f(\\vec{e_j}) \\in \\mathbb{R}^m$ and $e_i \\in \\mathbb{R}^n$\n",
    "    * This means $a_{ij}$ is the $i$th component of $f(\\vec{e_j})$\n",
    "    * This is just a way to get the $a_{ij}$ element of a matrix, similar to what we did for vector components earlier)\n",
    "    * Another way to write the same thing is $f(\\vec{e_j}) = \\sum_{i=1}^na_{ij}e_i$\n",
    "* Claim that the matrix $A = [a_{ij}]_{i=1..m, j=1..n}$ represents $f$ - Need to show that $\\forall x \\in \\mathbb{R}^n$, $f(x) = Ax$\n",
    "* Let $x \\in \\mathbb{R}^n$. Write $x = \\sum_{j=1}^nx_j\\vec{e_j}$ (due to vector components)\n",
    "* $f(x) = f(\\sum_{j=1}^nx_j\\vec{e_j})$\n",
    "* $f(x) = \\sum_{j=1}^nf(x_j\\vec{e_j})$ (due to preservation of addition)\n",
    "* $f(x) = \\sum_{j=1}^nx_jf(\\vec{e_j})$ (due to preservation of scalar multiplication because $x_j$ is a constant)\n",
    "* $f(x) = \\sum_{j=1}^nx_j\\sum_{i=1}^ma_{ij}e_i$ (rewrite $f(\\vec{e_j})$ from the definition earlier in the proof)\n",
    "* $f(x) = \\sum_{i=1}^m(\\sum_{j=1}^na_{ij}x_j)e_i$ (just moving things around)\n",
    "* $f(x) = Ax$ (from the definition of matrix vector product)\n",
    "\n",
    "Uniqueness is left as an exercise"
   ]
  },
  {
   "cell_type": "markdown",
   "id": "85919052-00c4-4076-8ced-9b63ad02b06b",
   "metadata": {},
   "source": [
    "### Composition of Linear Functions"
   ]
  },
  {
   "cell_type": "markdown",
   "id": "86449bfb-6434-4b2c-8ddc-ac88de269688",
   "metadata": {},
   "source": [
    "Suppose $f: \\mathbb{R}^n \\rightarrow \\mathbb{R}^m $ and $g: \\mathbb{R}^p \\rightarrow \\mathbb{R}^n $. $f$ and $g$ are linear functions.\n",
    "\n",
    "Then the composition $(f \\circ g): \\mathbb{R}^p \\rightarrow \\mathbb{R}^m$ is defined by $(f \\circ g)(\\vec{u}) = f(g(\\vec{u}))$ (first apply $g$, then apply $f$) \n",
    "\n",
    "Claim $(f \\circ g)$ is linear\n",
    "\n",
    "Proof Sketch:\n",
    "* Let $u,v \\in \\mathbb{R}^p$ and let $a \\in \\mathbb{R}$\n",
    "\n",
    "Additivity\n",
    "* $(f \\circ g)(u+v) = f(g(u + v))$\n",
    "* $(f \\circ g)(u+v) = f(g(u) + g(v)))$ (because g is linear, it can be separated out)\n",
    "* $(f \\circ g)(u+v) = f(g(u)) + f(g(v)))$ (because f is linear)\n",
    "* $(f \\circ g)(u+v) = (f \\circ g)(u) + (f \\circ g)(v)$ (apply definition of composition - this says that the composition preserves additivity)\n",
    "\n",
    "Scalar Multiplication\n",
    "* $(f \\circ g)(au) = f(g(au))$ (because g is linear, it can be separated out)\n",
    "* $(f \\circ g)(au) = f(ag(u))$ (because of scalar multiplication)\n",
    "* $(f \\circ g)(au) = af(g(u))$ (because f is linear)\n",
    "* $(f \\circ g)(au) = a(f \\circ g)(u)$ (apply definition of composition - this says that the composition preserves scalar multiplication)\n",
    "\n",
    "***These two proofs show that $(f \\circ g)$ is linear if $f$ and $g$ are both linear. Since $f \\circ g$ is linear, the main result of this unit is that every linear function from $\\mathbb{R}^m \\rightarrow \\mathbb{R}^n$ can be uniquely represented by a matrix $C \\in \\mathbb{R}^{m*p}$***"
   ]
  },
  {
   "cell_type": "markdown",
   "id": "2221fb42-db1a-42ab-8e70-6b63b8c377c2",
   "metadata": {},
   "source": [
    "How to discover $C$?\n",
    "\n",
    "Let's say you know the matrix of $f$ and $g$. How would you find the matrix of $C$?\n",
    "\n",
    "Suppose\n",
    "* $f(u) = Au$ for $u \\in \\mathbb{R}^n$\n",
    "* $g(v) = Bv$ for $v \\in \\mathbb{R}^p$\n",
    "\n",
    "Where \n",
    "* $A = [a_{ij}]_{i=1..m,j=1..n}$\n",
    "* $B = [b_{jk}]_{j=1..n,j=1..p}$\n",
    "\n",
    "So\n",
    "* $(f \\circ g)(v) = f(g(v))$\n",
    "* $(f \\circ g)(v) = f(Bv)$ (rewriting $g(v)$)\n",
    "* $(f \\circ g)(v) = f(\\sum_{j=1}^n(b_{jk}v_k)e_j)$ (by definition of matrix vector product) \n",
    "* Let $x = \\sum_{j=1}^n\\sum_{k=1}^p(b_{jk}v_k)e_j$ (by variable substitution since the matrix vector product is a vector in $\\mathbb{R}^n$)\n",
    "  * $x_j = \\sum_{k=1}^pb_{jk}v_k$\n",
    "* $(f \\circ g)(v) = f(x)$ (substituting the $x$ variable we created in the prior step)\n",
    "* $(f \\circ g)(v) = Ax$ (by definiton of matrix vector product)\n",
    "* $(f \\circ g)(v) = \\sum_{i=1}^m(\\sum_{j=1}^na_{ij}x_j)e_i$ (rewrite $Ax$ in matrix notation)\n",
    "* $(f \\circ g)(v) = \\sum_{i=1}^m(\\sum_{j=1}^na_{ij} \\sum_{k=1}^pb_{jk}v_k)e_i$ (substitute x_j from the variable created earlier)\n",
    "* $(f \\circ g)(v) = \\sum_{i=1}^m\\sum_{k=1}^p(\\sum_{j=1}^na_{ij}b_{jk})v_ke_i$ (reorder the summations since $C$ should be in $\\mathbb{R}^{m*p}$)\n",
    "* Let $c_{ik} = \\sum_{j=1}^na_{ij}b_{jk}$ (create a new variable from the prior step)\n",
    "  * $ C = [c_{ik}]_{i=1..m,k=i..p}$\n",
    "* $(f \\circ g)(v) = \\sum_{i=1}^m\\sum_{k=1}^pc_{ik}v_ke_i$ (by variable substitution) \n",
    "* $(f \\circ g)(v) = Cv$ (this is the exact definiton of matrix multiplication) \n",
    "\n",
    "The result - If you want to discover the matrix $C$, which is the composition of $f$ and $g$, it is the matrix given by:\n",
    "* $c_{ik} = \\sum_{j=1}^na_{ij}b_{jk}$\n",
    "  * The $ik$th entry is the inner product of the $i$th row of $A$ with the inner product of the $j$th row of $B$\n",
    "* $ C = [c_{ik}]_{i=1..m,k=i..p}$ \n",
    "\n",
    "Later, we will define matrix multiplication to correspond to the composition of linear functions"
   ]
  },
  {
   "cell_type": "markdown",
   "id": "bf0b640f-360b-4439-82c8-37827a063816",
   "metadata": {},
   "source": [
    "### The Matrix Product (Matrix Multiplication)"
   ]
  },
  {
   "cell_type": "markdown",
   "id": "e5dc5632-71af-4af3-9553-20d15abbbf2e",
   "metadata": {},
   "source": [
    "Definition:\n",
    "\n",
    "For:\\\n",
    "$A \\in \\mathbb{R}^{m*n}$ ($A$ represents a linear function $f: \\mathbb{R}^{n} \\rightarrow \\mathbb{R}^{m}$)\\\n",
    "$B \\in \\mathbb{R}^{n*p}$ ($B$ represents a linear function $g: \\mathbb{R}^{p} \\rightarrow \\mathbb{R}^{n}$)\n",
    "\n",
    "Define the matrix product $AB$ to be the matrix $C \\in \\mathbb{R}^{m*p}$ representing $(f \\circ g): \\mathbb{R}^p \\rightarrow \\mathbb{R}^m$\n",
    "\n",
    "If: \n",
    "* $A = [a_{ij}]_{i=1..m,j=1..n}$\n",
    "* $B = [b_{jk}]_{j=1..n,j=1..p}$\n",
    "\n",
    "Then :\n",
    "* $ C = [c_{ik}]_{i=1..m,k=i..p}$ where $c_{ik} = \\sum_{j=1}^na_{ij}b_{jk}$\n",
    "\n",
    "An Alternative Characterization\\\n",
    "If we define for $i = 1...m$ and for $k=1..p$\n",
    "* $A_i$ = the $i$th row of $A$\n",
    "* $B_k$ = the $k$th column of $B$\n",
    "\n",
    "Then $c_{ik} = <A_i,B_k>$ (This is the formalization of the matrix product for an example of multiplying two matrices together.)\n",
    "\n",
    "**Example (2x3) * (3x4) Matrix:**\n",
    "\n",
    "The number of columns in the first matrix must match the number of rows in the second matrix. The result will be a 2x4 ($m*p$) matrix.\n",
    "\n",
    "$\n",
    "\\left[\\begin{matrix} 1 & 2 & 3\\\\ 4 & 5 & 6 \\end{matrix}\\right]\n",
    "* \n",
    "\\left[\\begin{matrix} 1 & 0 & 1 & 0 \\\\ 0 & 1 & 0 & 1 \\\\ 1 & 0 & 1 & 0 \\end{matrix}\\right]\n",
    "= \n",
    "\\left[\\begin{matrix} 1+3 & 2 & 1+3 & 2 \\\\ 4+6 & 5 & 4+6 & 5 \\end{matrix}\\right]\n",
    "= \n",
    "\\left[\\begin{matrix} 4 & 2 & 4 & 2 \\\\ 10 & 5 & 10 & 5 \\end{matrix}\\right]\n",
    "$\n",
    "\n",
    "In words:\\\n",
    "Take the inner product of the first row of $A$ and the each column of $B$. This becomes the top row of $C$. Take the inner product of the next row of $A$ and each column of $B$ - this becomes the next row of $C$... and so on. $C$ will have the same number of rows as $A$ and the same number of columns as $B$\n",
    "\n"
   ]
  },
  {
   "cell_type": "code",
   "execution_count": null,
   "id": "6bc8077f-3d75-415c-a054-2452ab9633a7",
   "metadata": {},
   "outputs": [],
   "source": [
    "import numpy as np\n",
    "\n",
    "# Matrix Product\n",
    "a = [[1,2,3], [4,5,6]]\n",
    "b = [[1,0,1,0], [0,1,0,1], [1,0,1,0]]\n",
    "\n",
    "c = np.dot(a,b)\n",
    "c"
   ]
  },
  {
   "cell_type": "markdown",
   "id": "48a1f72c-25d5-4c2d-aeb8-b9caccbbbce3",
   "metadata": {
    "tags": []
   },
   "source": [
    "### Recap\n",
    "\n",
    "#### Unit 1: High-Level Objectives\n",
    "* Motivate and define what is a linear function on real vectors\n",
    "* Explain how to represent linear functions using real matrices\n",
    "* Identify matrix multiplication with composition of linear functions\n",
    "\n",
    "What is a function? \n",
    "* A function f is a rule that assigns to each element x in its domain an outputf(x) in its codomain\n",
    "  * Domain: set of inputs\n",
    "  * Codomain: superset of outputs\n",
    "  * Range: set of all outputs\n",
    "* Functions can be represented by formulas, words, sets, and graphs\n",
    "\n",
    "What Is a Linear Function?\n",
    "* A linear function preserves addition and scalar multiplication on real vectors ( R ninto→ R m)\n",
    "* Affine function: maps line segments proportionally to line segments; motivated by functions with two-dimensional graphs that are lines\n",
    "  * A function $ f: \\mathbb{R}^n \\rightarrow \\mathbb{R}^m $ is called affine if for every $u,v \\in \\mathbb{R}^n$ and for every $ t \\in [0,1]$\\\n",
    "$f((1-t)u + tv) = (1-t)f(u) + tf(v)$\n",
    "  * A linear function is an affine function that maps zero to zero\n",
    "\n",
    "Affine Functions as Linear Functions\n",
    "* Affine functions are linear functions plus a constant\n",
    "* Affine functions with an n-dimensional domain are equivalent to linear functions with an(n+1)-dimensional domain\n",
    "\n",
    "Operations on Real Vectors\n",
    "* Real vectors (elements of Rn)\n",
    "  * Can be added to each other\n",
    "* Can be multiplied by a real number\n",
    "* To get inner product of two vectors:\n",
    "  * Pairwise multiply the components\n",
    "  * Add the results\n",
    "  \n",
    "Summation and Applications\n",
    "* Summation: succinctly representing formulas\n",
    "* Formulas involving vector components and the ith basis vector in Rn:\n",
    "  * $x_k = <x, e_k>$\n",
    "  * For any $x \\in \\mathbb{R}^n$, we can write $\\vec{x} = \\sum_{k=1}^n x_k*\\vec{e_k}$\n",
    "* Where we can obtain the ith component of that vector by taking the product of that vector with the ith basis element of Rn\n",
    "* We can express any vector as the sum of the kth component times the kth elementary basis vector in Rn\n",
    "\n",
    "Vectors as Single-Valued Linear Functions\n",
    "* Form for all single-valued linear functions $f : \\mathbb{R}^n \\rightarrow \\mathbb{R}$:\n",
    "  * $f(x) = <a,x>$ for some real vector $a$\n",
    "  \n",
    "Operations on Real Matrices\n",
    "* Real matrices (elements of $\\mathbb{R}^{m*n}$) can be added or multiplied by a real number\n",
    "\n",
    "Matrix Vector Product\n",
    "* For $ A \\in \\mathbb{R}^{m*n}$ and $v \\in \\mathbb{R}^n$:\n",
    "  * $\\sum_{i=1}^m (\\sum_{j=1}^n a_{ij}v_j)\\vec{e_i}$\n",
    "* If $A_i$ denotes the ith row of $A$, the matrix-vector product expression is:\n",
    "  * $\\sum_{i=1}^m<A_i,v>e_i$\n",
    "  \n",
    "Matrices as Linear Functions\n",
    "* Form for every function $f : \\mathbb{R}^n \\rightarrow \\mathbb{R}^m$:\n",
    "  * $f(v)=Av$ (for some unique matrix $A \\in \\mathbb{R}^{m*n}$)\n",
    "  \n",
    "Composition of Linear Functions\n",
    "* Composition of two linear functions is linear.\n",
    "* The matrix of a composition of linear functions can be expressed in terms of the matrices of the component functions.\n",
    "\n",
    "Matrix Product\n",
    "* The product of matrices is defined to match composition of functions."
   ]
  },
  {
   "cell_type": "code",
   "execution_count": null,
   "id": "6fd5ea22-71dd-49c5-8b30-7b8446693c29",
   "metadata": {},
   "outputs": [],
   "source": []
  }
 ],
 "metadata": {
  "kernelspec": {
   "display_name": "Python 3 (ipykernel)",
   "language": "python",
   "name": "python3"
  },
  "language_info": {
   "codemirror_mode": {
    "name": "ipython",
    "version": 3
   },
   "file_extension": ".py",
   "mimetype": "text/x-python",
   "name": "python",
   "nbconvert_exporter": "python",
   "pygments_lexer": "ipython3",
   "version": "3.8.10"
  }
 },
 "nbformat": 4,
 "nbformat_minor": 5
}
